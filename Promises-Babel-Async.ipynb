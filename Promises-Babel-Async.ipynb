{
 "cells": [
  {
   "cell_type": "markdown",
   "metadata": {},
   "source": [
    "### Using jp-babel\n",
    "\n",
    "Using a patched `jp-babel` with the following presets:\n",
    "\n",
    "```\n",
    "\"presets\": [\n",
    "  \"es2015\",\n",
    "  \"stage-3\"\n",
    "]\n",
    "```\n",
    "\n",
    "This also requires\n",
    "````\n",
    "npm install --save-dev babel-plugin-transform-runtime\n",
    "```"
   ]
  },
  {
   "cell_type": "markdown",
   "metadata": {},
   "source": [
    "#### Console.log example\n",
    "\n",
    "This seems to work everytime"
   ]
  },
  {
   "cell_type": "code",
   "execution_count": 1,
   "metadata": {
    "collapsed": false
   },
   "outputs": [
    {
     "data": {
      "text/plain": [
       "'use strict'"
      ]
     },
     "execution_count": 1,
     "metadata": {},
     "output_type": "execute_result"
    },
    {
     "name": "stdout",
     "output_type": "stream",
     "text": [
      "GitHub lives! (2016-07-25 12:10:20 -0700) (1)\n",
      "\n"
     ]
    }
   ],
   "source": [
    "var rp = require('request-promise');\n",
    "var cell1 = (async () => { console.log(await rp('https://github.com/status')) })();"
   ]
  },
  {
   "cell_type": "markdown",
   "metadata": {},
   "source": [
    "#### Passing a global variable\n",
    "\n",
    "This seems to work. But only if cells are ran separately."
   ]
  },
  {
   "cell_type": "code",
   "execution_count": 2,
   "metadata": {
    "collapsed": false
   },
   "outputs": [
    {
     "data": {
      "text/plain": [
       "'use strict'"
      ]
     },
     "execution_count": 2,
     "metadata": {},
     "output_type": "execute_result"
    }
   ],
   "source": [
    "var rp = require('request-promise');\n",
    "var result;"
   ]
  },
  {
   "cell_type": "code",
   "execution_count": 8,
   "metadata": {
    "collapsed": false
   },
   "outputs": [
    {
     "data": {
      "text/plain": [
       "'use strict'"
      ]
     },
     "execution_count": 8,
     "metadata": {},
     "output_type": "execute_result"
    }
   ],
   "source": [
    "var cell1 = (async () => { result = await rp('https://github.com/status')})();"
   ]
  },
  {
   "cell_type": "code",
   "execution_count": 9,
   "metadata": {
    "collapsed": false
   },
   "outputs": [
    {
     "data": {
      "text/plain": [
       "'GitHub lives! (2016-07-25 12:10:51 -0700) (1)\\n'"
      ]
     },
     "execution_count": 9,
     "metadata": {},
     "output_type": "execute_result"
    }
   ],
   "source": [
    "result"
   ]
  },
  {
   "cell_type": "markdown",
   "metadata": {},
   "source": [
    "#### Prettier IIFE\n",
    "\n",
    "Putting everything in the same cell doesn't work, unless it's ran a second time."
   ]
  },
  {
   "cell_type": "code",
   "execution_count": 10,
   "metadata": {
    "collapsed": false
   },
   "outputs": [
    {
     "data": {
      "text/plain": [
       "undefined"
      ]
     },
     "execution_count": 10,
     "metadata": {},
     "output_type": "execute_result"
    }
   ],
   "source": [
    "var rp = require('request-promise');\n",
    "var result2;\n",
    "var cell1 = (async () => { result2 = await rp('https://github.com/status')})();\n",
    "result2"
   ]
  },
  {
   "cell_type": "code",
   "execution_count": 11,
   "metadata": {
    "collapsed": false
   },
   "outputs": [
    {
     "data": {
      "text/plain": [
       "'GitHub lives! (2016-07-25 12:11:01 -0700) (1)\\n'"
      ]
     },
     "execution_count": 11,
     "metadata": {},
     "output_type": "execute_result"
    }
   ],
   "source": [
    "result2"
   ]
  },
  {
   "cell_type": "code",
   "execution_count": null,
   "metadata": {
    "collapsed": true
   },
   "outputs": [],
   "source": []
  }
 ],
 "metadata": {
  "kernelspec": {
   "display_name": "Babel (Node.js)",
   "language": "babel",
   "name": "babel"
  },
  "language_info": {
   "file_extension": ".js",
   "mimetype": "application/javascript",
   "name": "javascript",
   "version": "6.3.0"
  }
 },
 "nbformat": 4,
 "nbformat_minor": 0
}
