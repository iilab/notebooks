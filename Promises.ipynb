{
 "cells": [
  {
   "cell_type": "code",
   "execution_count": null,
   "metadata": {
    "collapsed": false,
    "scrolled": true
   },
   "outputs": [],
   "source": [
    "var rp = require('request-promise');\n",
    "var global_result;"
   ]
  },
  {
   "cell_type": "code",
   "execution_count": null,
   "metadata": {
    "collapsed": false
   },
   "outputs": [],
   "source": [
    "// Look ma, no $$.async() or IIFE!\n",
    "\n",
    "var cell1 = rp('https://github.com/status')\n",
    "  .then(function (result) {\n",
    "      $$.sendResult(result)\n",
    "  }).catch(function (err) {\n",
    "      console.log(\"Error in cell1\")\n",
    "  });"
   ]
  },
  {
   "cell_type": "code",
   "execution_count": null,
   "metadata": {
    "collapsed": false
   },
   "outputs": [],
   "source": [
    "// %%\n",
    "\n",
    "var cell1 = rp('https://github.com/status')\n",
    "  .then(function (result) {\n",
    "      return result\n",
    "  }).catch(function (err) {\n",
    "      console.log(\"Error in cell1\")\n",
    "  });\n",
    "\n",
    "cell1"
   ]
  },
  {
   "cell_type": "code",
   "execution_count": null,
   "metadata": {
    "collapsed": false
   },
   "outputs": [],
   "source": [
    "// %%\n",
    "\n",
    "var cell1 = rp('https://github.com/status')\n",
    "  .then(function (result) {\n",
    "      global_result = result;\n",
    "  }).catch(function (err) {\n",
    "      console.log(\"Error in cell1\")\n",
    "  });\n",
    "\n",
    "cell1"
   ]
  },
  {
   "cell_type": "code",
   "execution_count": null,
   "metadata": {
    "collapsed": false
   },
   "outputs": [],
   "source": [
    "$$.sendResult(global_result)"
   ]
  },
  {
   "cell_type": "code",
   "execution_count": null,
   "metadata": {
    "collapsed": false
   },
   "outputs": [],
   "source": [
    "var notebook = Promise.all([cell2, cell3])\n",
    "  .then(function(result) {\n",
    "    // this could map over cells.\n",
    "    $$.sendResult(result)\n",
    "  })\n",
    "  .catch(function (err) {\n",
    "    console.log(\"Error in Promise.all\")\n",
    "  });\n",
    "\n",
    "var cell2 = rp('https://github.com/status')\n",
    "  .then(function (result) {\n",
    "      return result\n",
    "  })\n",
    "\n",
    "var cell3 = new Promise(() => glob)\n",
    "\n",
    "\n",
    "notebook\n"
   ]
  },
  {
   "cell_type": "code",
   "execution_count": null,
   "metadata": {
    "collapsed": true
   },
   "outputs": [],
   "source": []
  }
 ],
 "metadata": {
  "kernelspec": {
   "display_name": "Javascript (Node.js)",
   "language": "javascript",
   "name": "javascript"
  },
  "language_info": {
   "file_extension": ".js",
   "mimetype": "application/javascript",
   "name": "javascript",
   "version": "6.3.0"
  }
 },
 "nbformat": 4,
 "nbformat_minor": 0
}
