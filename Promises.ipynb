{
 "cells": [
  {
   "cell_type": "code",
   "execution_count": 3,
   "metadata": {
    "collapsed": false,
    "scrolled": true
   },
   "outputs": [
    {
     "data": {
      "text/plain": [
       "undefined"
      ]
     },
     "execution_count": 3,
     "metadata": {},
     "output_type": "execute_result"
    },
    {
     "data": {
      "text/plain": [
       "'GitHub lives! (2016-07-25 10:14:54 -0700) (1)\\n'"
      ]
     },
     "execution_count": 3,
     "metadata": {},
     "output_type": "execute_result"
    }
   ],
   "source": [
    "// Look ma, no $$.async() or IIFE!\n",
    "var rp = require('request-promise');\n",
    "var cell1 = rp('https://github.com/status').then(r => $$.sendResult(r));"
   ]
  },
  {
   "cell_type": "code",
   "execution_count": 4,
   "metadata": {
    "collapsed": false
   },
   "outputs": [
    {
     "data": {
      "text/plain": [
       "undefined"
      ]
     },
     "execution_count": 4,
     "metadata": {},
     "output_type": "execute_result"
    },
    {
     "data": {
      "text/plain": [
       "'Bye'"
      ]
     },
     "execution_count": 4,
     "metadata": {},
     "output_type": "execute_result"
    }
   ],
   "source": [
    "// $$.async();\n",
    "\n",
    "// var cell1 = {\n",
    "//     $$: $$,\n",
    "//     console: console,\n",
    "// };\n",
    "\n",
    "// setTimeout(function() {\n",
    "//     cell1.console.log(\"Hello, world!\");\n",
    "//     cell1.$$.sendResult(\"Bye!\");\n",
    "// }, 1000);\n",
    "\n",
    "var sleep = require('sleep-promise')\n",
    "var cell2 = sleep(1000).then(r => $$.sendResult(\"Bye\"))"
   ]
  },
  {
   "cell_type": "code",
   "execution_count": 5,
   "metadata": {
    "collapsed": false
   },
   "outputs": [
    {
     "data": {
      "text/plain": [
       "undefined"
      ]
     },
     "execution_count": 5,
     "metadata": {},
     "output_type": "execute_result"
    }
   ],
   "source": [
    "// async/await syntax would allow this\n",
    "// var cell3 = $$.sendResult(await rp('https://github.com/status'))"
   ]
  },
  {
   "cell_type": "code",
   "execution_count": null,
   "metadata": {
    "collapsed": true
   },
   "outputs": [],
   "source": []
  }
 ],
 "metadata": {
  "kernelspec": {
   "display_name": "Javascript (Node.js)",
   "language": "javascript",
   "name": "javascript"
  },
  "language_info": {
   "file_extension": ".js",
   "mimetype": "application/javascript",
   "name": "javascript",
   "version": "6.3.0"
  }
 },
 "nbformat": 4,
 "nbformat_minor": 0
}
