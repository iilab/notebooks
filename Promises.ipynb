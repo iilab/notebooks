{
 "cells": [
  {
   "cell_type": "markdown",
   "metadata": {},
   "source": [
    "### Using Promises for asynchronous notebooks\n",
    "\n",
    "This first example uses no $$.async() or IIFE! But has a strange double output."
   ]
  },
  {
   "cell_type": "code",
   "execution_count": 6,
   "metadata": {
    "collapsed": false,
    "scrolled": true
   },
   "outputs": [
    {
     "data": {
      "text/plain": [
       "undefined"
      ]
     },
     "execution_count": 6,
     "metadata": {},
     "output_type": "execute_result"
    },
    {
     "data": {
      "text/plain": [
       "'GitHub lives! (2016-07-25 10:44:33 -0700) (1)\\n'"
      ]
     },
     "execution_count": 6,
     "metadata": {},
     "output_type": "execute_result"
    }
   ],
   "source": [
    "var rp = require('request-promise');\n",
    "var cell1 = rp('https://github.com/status').then(r => $$.sendResult(r));"
   ]
  },
  {
   "cell_type": "markdown",
   "metadata": {},
   "source": [
    "In this example there is only a single well formed output. But all this **only works currently if the cells are ran individually**. \n",
    "\n",
    "*(Using `Restart and run all` displays results at the very end and inconsistently)*"
   ]
  },
  {
   "cell_type": "code",
   "execution_count": 7,
   "metadata": {
    "collapsed": false
   },
   "outputs": [
    {
     "data": {
      "text/plain": [
       "'GitHub lives! (2016-07-25 10:44:36 -0700) (1)\\n'"
      ]
     },
     "execution_count": 7,
     "metadata": {},
     "output_type": "execute_result"
    }
   ],
   "source": [
    "// Look ma, no $$.async() or IIFE!\n",
    "var rp = require('request-promise');\n",
    "var cell2 = rp('https://github.com/status').then(r => $$.sendResult(r)).then($$.done());"
   ]
  },
  {
   "cell_type": "markdown",
   "metadata": {},
   "source": [
    "### Sleep\n",
    "\n",
    "Alternative to the example code here: https://github.com/n-riesco/ijavascript/blob/dev/doc/async.ipynb\n",
    "\n",
    "```\n",
    "$$.async();\n",
    "\n",
    "var cell1 = {\n",
    "    $$: $$,\n",
    "    console: console,\n",
    " };\n",
    "\n",
    "setTimeout(function() {\n",
    "     cell1.console.log(\"Hello, world!\");\n",
    "     cell1.$$.sendResult(\"Bye!\");\n",
    "}, 1000);\n",
    "```"
   ]
  },
  {
   "cell_type": "code",
   "execution_count": 8,
   "metadata": {
    "collapsed": false
   },
   "outputs": [
    {
     "name": "stdout",
     "output_type": "stream",
     "text": [
      "Hello, world!\n"
     ]
    },
    {
     "data": {
      "text/plain": [
       "'Bye'"
      ]
     },
     "execution_count": 8,
     "metadata": {},
     "output_type": "execute_result"
    }
   ],
   "source": [
    "// sleep-promise is only:\n",
    "// function sleep(timeout) {\n",
    "//    return new Promise(function(resolve) {\n",
    "//        setTimeout(resolve, timeout);\n",
    "//    });\n",
    "//};\n",
    "\n",
    "var sleep = require('sleep-promise')\n",
    "var cell3 = sleep(1000).then(r => { console.log(\"Hello, world!\"); $$.sendResult(\"Bye\")}).then($$.done())"
   ]
  },
  {
   "cell_type": "markdown",
   "metadata": {},
   "source": [
    "### Async/Await syntax\n",
    "\n",
    "This is the draft spec: https://tc39.github.io/ecmascript-asyncawait/\n",
    "\n",
    "But there are already a number of transpiling options with babel and traceur.\n",
    " - [babel options](http://discuss.babeljs.io/t/using-es7-features-async-await/65/3)\n",
    "     - babel-plugin-transform-async-functions with babel-plugin-transform-regenerator - Compile async functions all the way down to ES5 using regenerator (also requires the babel-polyfill)\n",
    "     - babel-plugin-transform-async-to-generator - Turn async function into generator and use Babel's built-in helper\n",
    "     - babel-plugin-transform-async-to-module-method54 - Turn async function into generator and use something like Bluebird's coroutine function\n",
    " - [traceur with Options: --async-functions](https://github.com/google/traceur-compiler/wiki/LanguageFeatures#async-functions-experimental)"
   ]
  },
  {
   "cell_type": "code",
   "execution_count": 5,
   "metadata": {
    "collapsed": false
   },
   "outputs": [
    {
     "data": {
      "text/plain": [
       "undefined"
      ]
     },
     "execution_count": 5,
     "metadata": {},
     "output_type": "execute_result"
    }
   ],
   "source": [
    "// async/await syntax would allow this (if $$.sendResult was an async function)\n",
    "// var cell3 = $$.sendResult(await rp('https://github.com/status'))"
   ]
  },
  {
   "cell_type": "code",
   "execution_count": null,
   "metadata": {
    "collapsed": true
   },
   "outputs": [],
   "source": []
  }
 ],
 "metadata": {
  "kernelspec": {
   "display_name": "Javascript (Node.js)",
   "language": "javascript",
   "name": "javascript"
  },
  "language_info": {
   "file_extension": ".js",
   "mimetype": "application/javascript",
   "name": "javascript",
   "version": "6.3.0"
  }
 },
 "nbformat": 4,
 "nbformat_minor": 0
}
